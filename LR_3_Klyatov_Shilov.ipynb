{
  "nbformat": 4,
  "nbformat_minor": 0,
  "metadata": {
    "colab": {
      "name": "LR_3_Klyatov_Shilov.ipynb",
      "provenance": [],
      "authorship_tag": "ABX9TyPvxGoqajgtCVneye2UCcAn",
      "include_colab_link": true
    },
    "kernelspec": {
      "name": "python3",
      "display_name": "Python 3"
    },
    "language_info": {
      "name": "python"
    }
  },
  "cells": [
    {
      "cell_type": "markdown",
      "metadata": {
        "id": "view-in-github",
        "colab_type": "text"
      },
      "source": [
        "<a href=\"https://colab.research.google.com/github/alklyatov/ML-DL_LR/blob/main/LR_3_Klyatov_Shilov.ipynb\" target=\"_parent\"><img src=\"https://colab.research.google.com/assets/colab-badge.svg\" alt=\"Open In Colab\"/></a>"
      ]
    },
    {
      "cell_type": "markdown",
      "metadata": {
        "id": "r2U_3FDZ-pxS"
      },
      "source": [
        "Импортируем бибилиотеки и приводим нашу таблицу к числовым значениям."
      ]
    },
    {
      "cell_type": "code",
      "metadata": {
        "colab": {
          "base_uri": "https://localhost:8080/"
        },
        "id": "RiiurP38T-VU",
        "outputId": "ac0b843a-7497-4e5d-9913-7a9d08ecbabc"
      },
      "source": [
        "import pandas as pd\n",
        "import re\n",
        "from sklearn.linear_model import LogisticRegression\n",
        "from sklearn.model_selection import train_test_split\n",
        "from sklearn.model_selection import KFold, cross_val_score, GridSearchCV\n",
        "from matplotlib import pyplot as plt\n",
        "import numpy as np\n",
        "%matplotlib inline\n",
        "\n",
        "from google.colab import drive\n",
        "drive.mount ('/content/drive')\n",
        "\n",
        "data = pd.read_csv('/content/drive/MyDrive/NetflixOriginals.csv', sep=',',encoding='latin-1')\n",
        "\n",
        "data = data.drop(['Title','Genre'],axis = 'columns' ) \n",
        "counts = data['Language'].value_counts()\n",
        "nan_count = data['Language'].isnull().sum()\n",
        "def replace_lang(lang):\n",
        "    if pd.isnull(lang):\n",
        "        return nan_count\n",
        "    return counts[lang]\n",
        "data['Language'] = data['Language'].apply(replace_lang)\n",
        "premier = data['Premiere']\n",
        "for i in range(len(premier)):\n",
        "  premier[i] = int(re.sub('.+ \\d+. ', '', str(premier[i])))\n",
        "#data['Premiere'].astype(int)\n",
        "\n",
        "rating = data['IMDB Score']\n",
        "for i in range (len(rating)):\n",
        "  if rating[i] >= 6: rating[i] = 1\n",
        "  else: rating[i] = 0 \n",
        "#data.tail(10)\n",
        "data = data.astype(np.int)\n",
        "data.info()"
      ],
      "execution_count": null,
      "outputs": [
        {
          "output_type": "stream",
          "name": "stdout",
          "text": [
            "Mounted at /content/drive\n",
            "<class 'pandas.core.frame.DataFrame'>\n",
            "RangeIndex: 584 entries, 0 to 583\n",
            "Data columns (total 4 columns):\n",
            " #   Column      Non-Null Count  Dtype\n",
            "---  ------      --------------  -----\n",
            " 0   Premiere    584 non-null    int64\n",
            " 1   Runtime     584 non-null    int64\n",
            " 2   IMDB Score  584 non-null    int64\n",
            " 3   Language    584 non-null    int64\n",
            "dtypes: int64(4)\n",
            "memory usage: 18.4 KB\n"
          ]
        },
        {
          "output_type": "stream",
          "name": "stderr",
          "text": [
            "/usr/local/lib/python3.7/dist-packages/ipykernel_launcher.py:25: SettingWithCopyWarning: \n",
            "A value is trying to be set on a copy of a slice from a DataFrame\n",
            "\n",
            "See the caveats in the documentation: https://pandas.pydata.org/pandas-docs/stable/user_guide/indexing.html#returning-a-view-versus-a-copy\n",
            "/usr/local/lib/python3.7/dist-packages/ipykernel_launcher.py:31: SettingWithCopyWarning: \n",
            "A value is trying to be set on a copy of a slice from a DataFrame\n",
            "\n",
            "See the caveats in the documentation: https://pandas.pydata.org/pandas-docs/stable/user_guide/indexing.html#returning-a-view-versus-a-copy\n",
            "/usr/local/lib/python3.7/dist-packages/ipykernel_launcher.py:30: SettingWithCopyWarning: \n",
            "A value is trying to be set on a copy of a slice from a DataFrame\n",
            "\n",
            "See the caveats in the documentation: https://pandas.pydata.org/pandas-docs/stable/user_guide/indexing.html#returning-a-view-versus-a-copy\n"
          ]
        }
      ]
    },
    {
      "cell_type": "markdown",
      "metadata": {
        "id": "PlTQv2Ei3kLN"
      },
      "source": [
        "Определим X и Y. Y - наш целевой параметр, X - все остальное.\n"
      ]
    },
    {
      "cell_type": "code",
      "metadata": {
        "colab": {
          "base_uri": "https://localhost:8080/",
          "height": 363
        },
        "id": "DrS2nb7T-hc1",
        "outputId": "ebdf7591-bc7f-4a57-dc92-4b06e1fd0bb4"
      },
      "source": [
        "X = data[data.columns[:]]\n",
        "y = data['IMDB Score']\n",
        "X = X.drop(['IMDB Score'], axis='columns')\n",
        "X.head(10)"
      ],
      "execution_count": null,
      "outputs": [
        {
          "output_type": "execute_result",
          "data": {
            "text/html": [
              "<div>\n",
              "<style scoped>\n",
              "    .dataframe tbody tr th:only-of-type {\n",
              "        vertical-align: middle;\n",
              "    }\n",
              "\n",
              "    .dataframe tbody tr th {\n",
              "        vertical-align: top;\n",
              "    }\n",
              "\n",
              "    .dataframe thead th {\n",
              "        text-align: right;\n",
              "    }\n",
              "</style>\n",
              "<table border=\"1\" class=\"dataframe\">\n",
              "  <thead>\n",
              "    <tr style=\"text-align: right;\">\n",
              "      <th></th>\n",
              "      <th>Premiere</th>\n",
              "      <th>Runtime</th>\n",
              "      <th>Language</th>\n",
              "    </tr>\n",
              "  </thead>\n",
              "  <tbody>\n",
              "    <tr>\n",
              "      <th>0</th>\n",
              "      <td>2019</td>\n",
              "      <td>58</td>\n",
              "      <td>2</td>\n",
              "    </tr>\n",
              "    <tr>\n",
              "      <th>1</th>\n",
              "      <td>2020</td>\n",
              "      <td>81</td>\n",
              "      <td>31</td>\n",
              "    </tr>\n",
              "    <tr>\n",
              "      <th>2</th>\n",
              "      <td>2019</td>\n",
              "      <td>79</td>\n",
              "      <td>14</td>\n",
              "    </tr>\n",
              "    <tr>\n",
              "      <th>3</th>\n",
              "      <td>2018</td>\n",
              "      <td>94</td>\n",
              "      <td>401</td>\n",
              "    </tr>\n",
              "    <tr>\n",
              "      <th>4</th>\n",
              "      <td>2020</td>\n",
              "      <td>90</td>\n",
              "      <td>33</td>\n",
              "    </tr>\n",
              "    <tr>\n",
              "      <th>5</th>\n",
              "      <td>2019</td>\n",
              "      <td>147</td>\n",
              "      <td>33</td>\n",
              "    </tr>\n",
              "    <tr>\n",
              "      <th>6</th>\n",
              "      <td>2020</td>\n",
              "      <td>112</td>\n",
              "      <td>5</td>\n",
              "    </tr>\n",
              "    <tr>\n",
              "      <th>7</th>\n",
              "      <td>2020</td>\n",
              "      <td>149</td>\n",
              "      <td>401</td>\n",
              "    </tr>\n",
              "    <tr>\n",
              "      <th>8</th>\n",
              "      <td>2018</td>\n",
              "      <td>73</td>\n",
              "      <td>401</td>\n",
              "    </tr>\n",
              "    <tr>\n",
              "      <th>9</th>\n",
              "      <td>2021</td>\n",
              "      <td>139</td>\n",
              "      <td>33</td>\n",
              "    </tr>\n",
              "  </tbody>\n",
              "</table>\n",
              "</div>"
            ],
            "text/plain": [
              "   Premiere  Runtime  Language\n",
              "0      2019       58         2\n",
              "1      2020       81        31\n",
              "2      2019       79        14\n",
              "3      2018       94       401\n",
              "4      2020       90        33\n",
              "5      2019      147        33\n",
              "6      2020      112         5\n",
              "7      2020      149       401\n",
              "8      2018       73       401\n",
              "9      2021      139        33"
            ]
          },
          "metadata": {},
          "execution_count": 3
        }
      ]
    },
    {
      "cell_type": "markdown",
      "metadata": {
        "id": "vssvVe1N_XGT"
      },
      "source": [
        "Определим тестовые и тренировочные выборки."
      ]
    },
    {
      "cell_type": "code",
      "metadata": {
        "id": "jvYOVluw_dw3"
      },
      "source": [
        "X_train, X_test, y_train, y_test = train_test_split(X, y, stratify = y)"
      ],
      "execution_count": null,
      "outputs": []
    },
    {
      "cell_type": "markdown",
      "metadata": {
        "id": "2SB01q7wATBY"
      },
      "source": [
        "Посмотрим точность предсказаний и определим лучший гиперпараметр( при котором точность предсказаний максимальна).\n"
      ]
    },
    {
      "cell_type": "code",
      "metadata": {
        "colab": {
          "base_uri": "https://localhost:8080/"
        },
        "id": "AUq6ivL6ATVJ",
        "outputId": "c53b8450-ddda-44de-b1ed-89f838cc229f"
      },
      "source": [
        "kfold = KFold(n_splits=6, shuffle=True, random_state=10) #генератор разбиений\n",
        "accuracy= []\n",
        "C_list = (10**-5, 10**-4, 10**-3, 10**-2, 10**-1, 10**0, 10**1, 10**2, 10**3, 10**4, 10**5)\n",
        "\n",
        "for i in range(0, len(C_list)):\n",
        "    clf = LogisticRegression(C=C_list[i], random_state=10, max_iter=200)\n",
        "    current_score = cross_val_score(clf, X_train, y_train, cv=kfold).mean()\n",
        "    accuracy.append(current_score)\n",
        "    print('При С =', C_list[i], 'точность равна', current_score)\n",
        "max_score = 0\n",
        "for i in range(0, len(accuracy)):\n",
        "    if max_score < accuracy[i]:\n",
        "        max_score = accuracy[i]\n",
        "        C_for_max_score = i\n",
        "print('\\n')\n",
        "print('Максимальная точность, равная', max_score, ', получается при C, равном', C_list[C_for_max_score])"
      ],
      "execution_count": null,
      "outputs": [
        {
          "output_type": "stream",
          "name": "stdout",
          "text": [
            "При С = 1e-05 точность равна 0.6461187214611872\n",
            "При С = 0.0001 точность равна 0.6461187214611872\n",
            "При С = 0.001 точность равна 0.6461187214611872\n",
            "При С = 0.01 точность равна 0.6461187214611872\n",
            "При С = 0.1 точность равна 0.6461187214611872\n",
            "При С = 1 точность равна 0.6461187214611872\n",
            "При С = 10 точность равна 0.6461187214611872\n",
            "При С = 100 точность равна 0.6461187214611872\n",
            "При С = 1000 точность равна 0.6461187214611872\n",
            "При С = 10000 точность равна 0.6461187214611872\n",
            "При С = 100000 точность равна 0.6461187214611872\n",
            "\n",
            "\n",
            "Максимальная точность, равная 0.6461187214611872 , получается при C, равном 1e-05\n"
          ]
        }
      ]
    },
    {
      "cell_type": "markdown",
      "metadata": {
        "id": "MheCxoCyCUuw"
      },
      "source": [
        "Обучим выбранный параметр на нашей выборке.\n"
      ]
    },
    {
      "cell_type": "code",
      "metadata": {
        "colab": {
          "base_uri": "https://localhost:8080/"
        },
        "id": "twxKh4r6Cpeu",
        "outputId": "870ede57-1c8a-47fe-ee70-5ba666b4482f"
      },
      "source": [
        "clf = LogisticRegression(C=C_list[C_for_max_score], random_state=10)\n",
        "clf.fit(X_train, y_train)\n",
        "clf.score(X_test, y_test)"
      ],
      "execution_count": null,
      "outputs": [
        {
          "output_type": "execute_result",
          "data": {
            "text/plain": [
              "0.6438356164383562"
            ]
          },
          "metadata": {},
          "execution_count": 6
        }
      ]
    },
    {
      "cell_type": "code",
      "metadata": {
        "id": "-mV3cakzHM3o"
      },
      "source": [
        "data = pd.read_csv('/content/drive/MyDrive/NetflixOriginals.csv', sep=',',encoding='latin-1')\n",
        "\n",
        "data = data.drop(['Title','Genre'],axis = 'columns' ) \n",
        "counts = data['Language'].value_counts()\n",
        "nan_count = data['Language'].isnull().sum()\n",
        "def replace_lang(lang):\n",
        "    if pd.isnull(lang):\n",
        "        return nan_count\n",
        "    return counts[lang]\n",
        "data['Language'] = data['Language'].apply(replace_lang)\n",
        "premier = data['Premiere']\n",
        "for i in range(len(premier)):\n",
        "  premier[i] = int(re.sub('.+ \\d+. ', '', str(premier[i])))\n",
        "\n",
        "rating = data['IMDB Score']\n",
        "for i in range (len(rating)):\n",
        "  if rating[i] >= 6: rating[i] = 1\n",
        "  else: rating[i] = 0 \n",
        "data = data.astype(np.int)\n"
      ],
      "execution_count": null,
      "outputs": []
    },
    {
      "cell_type": "markdown",
      "metadata": {
        "id": "s3wWnVS0HY3o"
      },
      "source": [
        "Обучим выборкну L2-регуляризации."
      ]
    },
    {
      "cell_type": "code",
      "metadata": {
        "id": "BIVoD3K4HZRU"
      },
      "source": [
        "from sklearn.linear_model import Ridge\n",
        "def ridge_regression(X_train, y_train, alpha):\n",
        "    ridgereg = Ridge(alpha=alpha, normalize=True)\n",
        "    ridgereg.fit(X_train, y_train)\n",
        "    y_pred = ridgereg.predict(X_train)\n",
        "    rss = sum((y_pred-y_train)**2)\n",
        "    ret=[rss]\n",
        "    ret.extend([ridgereg.intercept_])\n",
        "    ret.extend(ridgereg.coef_)\n",
        "    return ret\n",
        "alpha_ridge = [1e-15, 1e-10, 1e-8, 1e-4, 1e-3, 1e-2, 1, 5, 10, 20]\n",
        "col = ['rss', 'intercept'] + ['coef_x_%d'%i for i in range(0, X_train.shape[1])]\n",
        "ind = ['alpha_%.2g'%alpha_ridge[i] for i in range(0,10)]\n",
        "coef_matrix_ridge = pd.DataFrame(index=ind, columns=col)\n",
        "for i in range(10):\n",
        "    coef_matrix_ridge.iloc[i,] = ridge_regression(X_train, y_train, alpha_ridge[i])\n"
      ],
      "execution_count": null,
      "outputs": []
    },
    {
      "cell_type": "code",
      "metadata": {
        "colab": {
          "base_uri": "https://localhost:8080/",
          "height": 363
        },
        "id": "vgYqqFseJIB4",
        "outputId": "acffac65-5da5-4309-89b1-13964ee86962"
      },
      "source": [
        "coef_matrix_ridge"
      ],
      "execution_count": null,
      "outputs": [
        {
          "output_type": "execute_result",
          "data": {
            "text/html": [
              "<div>\n",
              "<style scoped>\n",
              "    .dataframe tbody tr th:only-of-type {\n",
              "        vertical-align: middle;\n",
              "    }\n",
              "\n",
              "    .dataframe tbody tr th {\n",
              "        vertical-align: top;\n",
              "    }\n",
              "\n",
              "    .dataframe thead th {\n",
              "        text-align: right;\n",
              "    }\n",
              "</style>\n",
              "<table border=\"1\" class=\"dataframe\">\n",
              "  <thead>\n",
              "    <tr style=\"text-align: right;\">\n",
              "      <th></th>\n",
              "      <th>rss</th>\n",
              "      <th>intercept</th>\n",
              "      <th>coef_x_0</th>\n",
              "      <th>coef_x_1</th>\n",
              "      <th>coef_x_2</th>\n",
              "    </tr>\n",
              "  </thead>\n",
              "  <tbody>\n",
              "    <tr>\n",
              "      <th>alpha_1e-15</th>\n",
              "      <td>99.4375</td>\n",
              "      <td>39.2169</td>\n",
              "      <td>-0.0191139</td>\n",
              "      <td>-0.00016603</td>\n",
              "      <td>0.000119581</td>\n",
              "    </tr>\n",
              "    <tr>\n",
              "      <th>alpha_1e-10</th>\n",
              "      <td>99.4375</td>\n",
              "      <td>39.2169</td>\n",
              "      <td>-0.0191139</td>\n",
              "      <td>-0.00016603</td>\n",
              "      <td>0.000119581</td>\n",
              "    </tr>\n",
              "    <tr>\n",
              "      <th>alpha_1e-08</th>\n",
              "      <td>99.4375</td>\n",
              "      <td>39.2169</td>\n",
              "      <td>-0.0191139</td>\n",
              "      <td>-0.00016603</td>\n",
              "      <td>0.000119581</td>\n",
              "    </tr>\n",
              "    <tr>\n",
              "      <th>alpha_0.0001</th>\n",
              "      <td>99.4375</td>\n",
              "      <td>39.2136</td>\n",
              "      <td>-0.0191122</td>\n",
              "      <td>-0.000166024</td>\n",
              "      <td>0.000119573</td>\n",
              "    </tr>\n",
              "    <tr>\n",
              "      <th>alpha_0.001</th>\n",
              "      <td>99.4375</td>\n",
              "      <td>39.184</td>\n",
              "      <td>-0.0190976</td>\n",
              "      <td>-0.000165977</td>\n",
              "      <td>0.000119498</td>\n",
              "    </tr>\n",
              "    <tr>\n",
              "      <th>alpha_0.01</th>\n",
              "      <td>99.4376</td>\n",
              "      <td>38.8912</td>\n",
              "      <td>-0.0189525</td>\n",
              "      <td>-0.000165501</td>\n",
              "      <td>0.000118762</td>\n",
              "    </tr>\n",
              "    <tr>\n",
              "      <th>alpha_1</th>\n",
              "      <td>99.573</td>\n",
              "      <td>21.6897</td>\n",
              "      <td>-0.0104277</td>\n",
              "      <td>-0.000114615</td>\n",
              "      <td>6.9851e-05</td>\n",
              "    </tr>\n",
              "    <tr>\n",
              "      <th>alpha_5</th>\n",
              "      <td>99.886</td>\n",
              "      <td>8.1908</td>\n",
              "      <td>-0.00373849</td>\n",
              "      <td>-4.67437e-05</td>\n",
              "      <td>2.59171e-05</td>\n",
              "    </tr>\n",
              "    <tr>\n",
              "      <th>alpha_10</th>\n",
              "      <td>99.9947</td>\n",
              "      <td>4.83731</td>\n",
              "      <td>-0.00207677</td>\n",
              "      <td>-2.66745e-05</td>\n",
              "      <td>1.44966e-05</td>\n",
              "    </tr>\n",
              "    <tr>\n",
              "      <th>alpha_20</th>\n",
              "      <td>100.065</td>\n",
              "      <td>2.86521</td>\n",
              "      <td>-0.00109957</td>\n",
              "      <td>-1.43368e-05</td>\n",
              "      <td>7.70459e-06</td>\n",
              "    </tr>\n",
              "  </tbody>\n",
              "</table>\n",
              "</div>"
            ],
            "text/plain": [
              "                  rss intercept    coef_x_0     coef_x_1     coef_x_2\n",
              "alpha_1e-15   99.4375   39.2169  -0.0191139  -0.00016603  0.000119581\n",
              "alpha_1e-10   99.4375   39.2169  -0.0191139  -0.00016603  0.000119581\n",
              "alpha_1e-08   99.4375   39.2169  -0.0191139  -0.00016603  0.000119581\n",
              "alpha_0.0001  99.4375   39.2136  -0.0191122 -0.000166024  0.000119573\n",
              "alpha_0.001   99.4375    39.184  -0.0190976 -0.000165977  0.000119498\n",
              "alpha_0.01    99.4376   38.8912  -0.0189525 -0.000165501  0.000118762\n",
              "alpha_1        99.573   21.6897  -0.0104277 -0.000114615   6.9851e-05\n",
              "alpha_5        99.886    8.1908 -0.00373849 -4.67437e-05  2.59171e-05\n",
              "alpha_10      99.9947   4.83731 -0.00207677 -2.66745e-05  1.44966e-05\n",
              "alpha_20      100.065   2.86521 -0.00109957 -1.43368e-05  7.70459e-06"
            ]
          },
          "metadata": {},
          "execution_count": 9
        }
      ]
    },
    {
      "cell_type": "markdown",
      "metadata": {
        "id": "ZMJmPFcnIhHj"
      },
      "source": [
        "Обучим выборкну L1-регуляризации."
      ]
    },
    {
      "cell_type": "code",
      "metadata": {
        "id": "9rmm185qIkOk"
      },
      "source": [
        "from sklearn.linear_model import Lasso\n",
        "def lasso_regression(X_train, y_train, alpha):\n",
        "    lassoreg = Lasso(alpha=alpha, normalize=True, max_iter=1e5)\n",
        "    lassoreg.fit(X_train, y_train)\n",
        "    y_pred = lassoreg.predict(X_train)\n",
        "    rss = sum((y_pred-y_train)**2)\n",
        "    ret=[rss]\n",
        "    ret.extend([lassoreg.intercept_])\n",
        "    ret.extend(lassoreg.coef_)\n",
        "    return ret\n",
        "alpha_lasso = [1e-15, 1e-10, 1e-8, 1e-5, 1e-4, 1e-3, 1e-2, 1, 5, 10]\n",
        "col = ['rss', 'intercept'] + ['coef_x_%d'%i for i in range(0, X_train.shape[1])]\n",
        "ind = ['alpha_%.2g'%alpha_lasso[i] for i in range(0,10)]\n",
        "coef_matrix_lasso = pd.DataFrame(index=ind, columns=col)\n",
        "for i in range(10):\n",
        "    coef_matrix_lasso.iloc[i,] = lasso_regression(X_train, y_train, alpha_lasso[i])"
      ],
      "execution_count": null,
      "outputs": []
    },
    {
      "cell_type": "code",
      "metadata": {
        "colab": {
          "base_uri": "https://localhost:8080/",
          "height": 363
        },
        "id": "h08cjV0mJEbL",
        "outputId": "3cf7a03a-111a-4b07-9133-dee2be61c9be"
      },
      "source": [
        "coef_matrix_lasso"
      ],
      "execution_count": null,
      "outputs": [
        {
          "output_type": "execute_result",
          "data": {
            "text/html": [
              "<div>\n",
              "<style scoped>\n",
              "    .dataframe tbody tr th:only-of-type {\n",
              "        vertical-align: middle;\n",
              "    }\n",
              "\n",
              "    .dataframe tbody tr th {\n",
              "        vertical-align: top;\n",
              "    }\n",
              "\n",
              "    .dataframe thead th {\n",
              "        text-align: right;\n",
              "    }\n",
              "</style>\n",
              "<table border=\"1\" class=\"dataframe\">\n",
              "  <thead>\n",
              "    <tr style=\"text-align: right;\">\n",
              "      <th></th>\n",
              "      <th>rss</th>\n",
              "      <th>intercept</th>\n",
              "      <th>coef_x_0</th>\n",
              "      <th>coef_x_1</th>\n",
              "      <th>coef_x_2</th>\n",
              "    </tr>\n",
              "  </thead>\n",
              "  <tbody>\n",
              "    <tr>\n",
              "      <th>alpha_1e-15</th>\n",
              "      <td>99.4375</td>\n",
              "      <td>39.2169</td>\n",
              "      <td>-0.0191139</td>\n",
              "      <td>-0.00016603</td>\n",
              "      <td>0.000119581</td>\n",
              "    </tr>\n",
              "    <tr>\n",
              "      <th>alpha_1e-10</th>\n",
              "      <td>99.4375</td>\n",
              "      <td>39.2169</td>\n",
              "      <td>-0.0191139</td>\n",
              "      <td>-0.000166029</td>\n",
              "      <td>0.000119581</td>\n",
              "    </tr>\n",
              "    <tr>\n",
              "      <th>alpha_1e-08</th>\n",
              "      <td>99.4375</td>\n",
              "      <td>39.2168</td>\n",
              "      <td>-0.0191138</td>\n",
              "      <td>-0.000166024</td>\n",
              "      <td>0.00011958</td>\n",
              "    </tr>\n",
              "    <tr>\n",
              "      <th>alpha_1e-05</th>\n",
              "      <td>99.4376</td>\n",
              "      <td>39.0092</td>\n",
              "      <td>-0.0190112</td>\n",
              "      <td>-0.000159284</td>\n",
              "      <td>0.000118711</td>\n",
              "    </tr>\n",
              "    <tr>\n",
              "      <th>alpha_0.0001</th>\n",
              "      <td>99.442</td>\n",
              "      <td>37.1389</td>\n",
              "      <td>-0.0180865</td>\n",
              "      <td>-9.85667e-05</td>\n",
              "      <td>0.000110881</td>\n",
              "    </tr>\n",
              "    <tr>\n",
              "      <th>alpha_0.001</th>\n",
              "      <td>99.7477</td>\n",
              "      <td>17.0614</td>\n",
              "      <td>-0.00813483</td>\n",
              "      <td>-0</td>\n",
              "      <td>2.86915e-05</td>\n",
              "    </tr>\n",
              "    <tr>\n",
              "      <th>alpha_0.01</th>\n",
              "      <td>100.148</td>\n",
              "      <td>0.646119</td>\n",
              "      <td>-0</td>\n",
              "      <td>-0</td>\n",
              "      <td>0</td>\n",
              "    </tr>\n",
              "    <tr>\n",
              "      <th>alpha_1</th>\n",
              "      <td>100.148</td>\n",
              "      <td>0.646119</td>\n",
              "      <td>-0</td>\n",
              "      <td>-0</td>\n",
              "      <td>0</td>\n",
              "    </tr>\n",
              "    <tr>\n",
              "      <th>alpha_5</th>\n",
              "      <td>100.148</td>\n",
              "      <td>0.646119</td>\n",
              "      <td>-0</td>\n",
              "      <td>-0</td>\n",
              "      <td>0</td>\n",
              "    </tr>\n",
              "    <tr>\n",
              "      <th>alpha_10</th>\n",
              "      <td>100.148</td>\n",
              "      <td>0.646119</td>\n",
              "      <td>-0</td>\n",
              "      <td>-0</td>\n",
              "      <td>0</td>\n",
              "    </tr>\n",
              "  </tbody>\n",
              "</table>\n",
              "</div>"
            ],
            "text/plain": [
              "                  rss intercept    coef_x_0     coef_x_1     coef_x_2\n",
              "alpha_1e-15   99.4375   39.2169  -0.0191139  -0.00016603  0.000119581\n",
              "alpha_1e-10   99.4375   39.2169  -0.0191139 -0.000166029  0.000119581\n",
              "alpha_1e-08   99.4375   39.2168  -0.0191138 -0.000166024   0.00011958\n",
              "alpha_1e-05   99.4376   39.0092  -0.0190112 -0.000159284  0.000118711\n",
              "alpha_0.0001   99.442   37.1389  -0.0180865 -9.85667e-05  0.000110881\n",
              "alpha_0.001   99.7477   17.0614 -0.00813483           -0  2.86915e-05\n",
              "alpha_0.01    100.148  0.646119          -0           -0            0\n",
              "alpha_1       100.148  0.646119          -0           -0            0\n",
              "alpha_5       100.148  0.646119          -0           -0            0\n",
              "alpha_10      100.148  0.646119          -0           -0            0"
            ]
          },
          "metadata": {},
          "execution_count": 11
        }
      ]
    },
    {
      "cell_type": "code",
      "metadata": {
        "colab": {
          "base_uri": "https://localhost:8080/"
        },
        "id": "wF74UZg4JyPp",
        "outputId": "4505e99d-6364-4224-b9e8-7887c6d86cff"
      },
      "source": [
        "X.info()"
      ],
      "execution_count": null,
      "outputs": [
        {
          "output_type": "stream",
          "name": "stdout",
          "text": [
            "<class 'pandas.core.frame.DataFrame'>\n",
            "RangeIndex: 584 entries, 0 to 583\n",
            "Data columns (total 3 columns):\n",
            " #   Column    Non-Null Count  Dtype\n",
            "---  ------    --------------  -----\n",
            " 0   Premiere  584 non-null    int64\n",
            " 1   Runtime   584 non-null    int64\n",
            " 2   Language  584 non-null    int64\n",
            "dtypes: int64(3)\n",
            "memory usage: 13.8 KB\n"
          ]
        }
      ]
    },
    {
      "cell_type": "code",
      "source": [
        "X = X.drop(['Runtime'], axis='columns')"
      ],
      "metadata": {
        "id": "33It_3j2zcII"
      },
      "execution_count": null,
      "outputs": []
    },
    {
      "cell_type": "code",
      "source": [
        "X_train, X_test, y_train, y_test = train_test_split(X, y, stratify=y)"
      ],
      "metadata": {
        "id": "WMqsJCFz0j0y"
      },
      "execution_count": null,
      "outputs": []
    },
    {
      "cell_type": "code",
      "source": [
        "from sklearn.neighbors import KNeighborsClassifier\n",
        "clf = KNeighborsClassifier(n_neighbors=5)\n",
        "clf.fit(X_train, y_train)\n",
        "clf.score(X_test, y_test)"
      ],
      "metadata": {
        "id": "J5ESeyJl0mOF",
        "outputId": "b6e42ed7-505e-4f58-a71b-8f778339b48f",
        "colab": {
          "base_uri": "https://localhost:8080/"
        }
      },
      "execution_count": null,
      "outputs": [
        {
          "output_type": "execute_result",
          "data": {
            "text/plain": [
              "0.5821917808219178"
            ]
          },
          "metadata": {},
          "execution_count": 15
        }
      ]
    }
  ]
}