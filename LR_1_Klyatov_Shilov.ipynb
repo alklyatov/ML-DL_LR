{
  "nbformat": 4,
  "nbformat_minor": 0,
  "metadata": {
    "colab": {
      "name": "Klyatov_Shilov_LR_1.ipynb",
      "provenance": [],
      "authorship_tag": "ABX9TyOcyYNtgfvgLZyW02/y83Vv",
      "include_colab_link": true
    },
    "kernelspec": {
      "name": "python3",
      "display_name": "Python 3"
    },
    "language_info": {
      "name": "python"
    }
  },
  "cells": [
    {
      "cell_type": "markdown",
      "metadata": {
        "id": "view-in-github",
        "colab_type": "text"
      },
      "source": [
        "<a href=\"https://colab.research.google.com/github/alklyatov/ML-DL_LR/blob/main/LR_1_Klyatov_Shilov.ipynb\" target=\"_parent\"><img src=\"https://colab.research.google.com/assets/colab-badge.svg\" alt=\"Open In Colab\"/></a>"
      ]
    },
    {
      "cell_type": "markdown",
      "metadata": {
        "id": "RxQOOdNuDwbN"
      },
      "source": [
        "Подключим библиотеки, используемые в работе. В качестве изначального набора данных будем использовать таблицу TOP-250 фильмов на Кинопоиске. Таблицу загрузим в облачное хранилище Google Drive. Разделителем будет запятая. \n"
      ]
    },
    {
      "cell_type": "code",
      "metadata": {
        "colab": {
          "base_uri": "https://localhost:8080/"
        },
        "id": "a6no9Fr3DcpC",
        "outputId": "c7d8683e-11d5-40c6-e601-f9ebdb5b0fb8"
      },
      "source": [
        "import pandas as pd\n",
        "import numpy as np\n",
        "import seaborn as sns\n",
        "import matplotlib.pyplot as plt\n",
        "import re\n",
        "%matplotlib inline\n",
        "\n",
        "from google.colab import drive\n",
        "drive.mount ('/content/drive')\n",
        "\n",
        "data = pd.read_csv('/content/drive/MyDrive/NetflixOriginals.csv', sep=',',encoding='latin-1')"
      ],
      "execution_count": null,
      "outputs": [
        {
          "output_type": "stream",
          "name": "stdout",
          "text": [
            "Mounted at /content/drive\n"
          ]
        }
      ]
    },
    {
      "cell_type": "markdown",
      "metadata": {
        "id": "cKyisON0D3Ve"
      },
      "source": [
        "Выведем первые 10 строк таблицы.\n"
      ]
    },
    {
      "cell_type": "code",
      "metadata": {
        "colab": {
          "base_uri": "https://localhost:8080/",
          "height": 363
        },
        "id": "zBHtiVnOD5A1",
        "outputId": "439606b4-8bf9-45dd-9848-fda8b8079f10"
      },
      "source": [
        "data.head(10)"
      ],
      "execution_count": null,
      "outputs": [
        {
          "output_type": "execute_result",
          "data": {
            "text/html": [
              "<div>\n",
              "<style scoped>\n",
              "    .dataframe tbody tr th:only-of-type {\n",
              "        vertical-align: middle;\n",
              "    }\n",
              "\n",
              "    .dataframe tbody tr th {\n",
              "        vertical-align: top;\n",
              "    }\n",
              "\n",
              "    .dataframe thead th {\n",
              "        text-align: right;\n",
              "    }\n",
              "</style>\n",
              "<table border=\"1\" class=\"dataframe\">\n",
              "  <thead>\n",
              "    <tr style=\"text-align: right;\">\n",
              "      <th></th>\n",
              "      <th>Title</th>\n",
              "      <th>Genre</th>\n",
              "      <th>Premiere</th>\n",
              "      <th>Runtime</th>\n",
              "      <th>IMDB Score</th>\n",
              "      <th>Language</th>\n",
              "    </tr>\n",
              "  </thead>\n",
              "  <tbody>\n",
              "    <tr>\n",
              "      <th>0</th>\n",
              "      <td>Enter the Anime</td>\n",
              "      <td>Documentary</td>\n",
              "      <td>August 5, 2019</td>\n",
              "      <td>58</td>\n",
              "      <td>2.5</td>\n",
              "      <td>English/Japanese</td>\n",
              "    </tr>\n",
              "    <tr>\n",
              "      <th>1</th>\n",
              "      <td>Dark Forces</td>\n",
              "      <td>Thriller</td>\n",
              "      <td>August 21, 2020</td>\n",
              "      <td>81</td>\n",
              "      <td>2.6</td>\n",
              "      <td>Spanish</td>\n",
              "    </tr>\n",
              "    <tr>\n",
              "      <th>2</th>\n",
              "      <td>The App</td>\n",
              "      <td>Science fiction/Drama</td>\n",
              "      <td>December 26, 2019</td>\n",
              "      <td>79</td>\n",
              "      <td>2.6</td>\n",
              "      <td>Italian</td>\n",
              "    </tr>\n",
              "    <tr>\n",
              "      <th>3</th>\n",
              "      <td>The Open House</td>\n",
              "      <td>Horror thriller</td>\n",
              "      <td>January 19, 2018</td>\n",
              "      <td>94</td>\n",
              "      <td>3.2</td>\n",
              "      <td>English</td>\n",
              "    </tr>\n",
              "    <tr>\n",
              "      <th>4</th>\n",
              "      <td>Kaali Khuhi</td>\n",
              "      <td>Mystery</td>\n",
              "      <td>October 30, 2020</td>\n",
              "      <td>90</td>\n",
              "      <td>3.4</td>\n",
              "      <td>Hindi</td>\n",
              "    </tr>\n",
              "    <tr>\n",
              "      <th>5</th>\n",
              "      <td>Drive</td>\n",
              "      <td>Action</td>\n",
              "      <td>November 1, 2019</td>\n",
              "      <td>147</td>\n",
              "      <td>3.5</td>\n",
              "      <td>Hindi</td>\n",
              "    </tr>\n",
              "    <tr>\n",
              "      <th>6</th>\n",
              "      <td>Leyla Everlasting</td>\n",
              "      <td>Comedy</td>\n",
              "      <td>December 4, 2020</td>\n",
              "      <td>112</td>\n",
              "      <td>3.7</td>\n",
              "      <td>Turkish</td>\n",
              "    </tr>\n",
              "    <tr>\n",
              "      <th>7</th>\n",
              "      <td>The Last Days of American Crime</td>\n",
              "      <td>Heist film/Thriller</td>\n",
              "      <td>June 5, 2020</td>\n",
              "      <td>149</td>\n",
              "      <td>3.7</td>\n",
              "      <td>English</td>\n",
              "    </tr>\n",
              "    <tr>\n",
              "      <th>8</th>\n",
              "      <td>Paradox</td>\n",
              "      <td>Musical/Western/Fantasy</td>\n",
              "      <td>March 23, 2018</td>\n",
              "      <td>73</td>\n",
              "      <td>3.9</td>\n",
              "      <td>English</td>\n",
              "    </tr>\n",
              "    <tr>\n",
              "      <th>9</th>\n",
              "      <td>Sardar Ka Grandson</td>\n",
              "      <td>Comedy</td>\n",
              "      <td>May 18, 2021</td>\n",
              "      <td>139</td>\n",
              "      <td>4.1</td>\n",
              "      <td>Hindi</td>\n",
              "    </tr>\n",
              "  </tbody>\n",
              "</table>\n",
              "</div>"
            ],
            "text/plain": [
              "                             Title  ...          Language\n",
              "0                  Enter the Anime  ...  English/Japanese\n",
              "1                      Dark Forces  ...           Spanish\n",
              "2                          The App  ...           Italian\n",
              "3                   The Open House  ...           English\n",
              "4                      Kaali Khuhi  ...             Hindi\n",
              "5                            Drive  ...             Hindi\n",
              "6                Leyla Everlasting  ...           Turkish\n",
              "7  The Last Days of American Crime  ...           English\n",
              "8                          Paradox  ...           English\n",
              "9               Sardar Ka Grandson  ...             Hindi\n",
              "\n",
              "[10 rows x 6 columns]"
            ]
          },
          "metadata": {},
          "execution_count": 2
        }
      ]
    },
    {
      "cell_type": "markdown",
      "metadata": {
        "id": "JPzF8No0D61J"
      },
      "source": [
        "Посмотрим полную инфомацию по таблице. В качестве предсказываемого объекта \n",
        "будет 'IMDB Score'."
      ]
    },
    {
      "cell_type": "code",
      "metadata": {
        "colab": {
          "base_uri": "https://localhost:8080/"
        },
        "id": "_eNYrFniD-Vv",
        "outputId": "6cb032a9-a4a8-48ea-eadf-89f8772f885d"
      },
      "source": [
        "data.info()"
      ],
      "execution_count": null,
      "outputs": [
        {
          "output_type": "stream",
          "name": "stdout",
          "text": [
            "<class 'pandas.core.frame.DataFrame'>\n",
            "RangeIndex: 584 entries, 0 to 583\n",
            "Data columns (total 6 columns):\n",
            " #   Column      Non-Null Count  Dtype  \n",
            "---  ------      --------------  -----  \n",
            " 0   Title       584 non-null    object \n",
            " 1   Genre       584 non-null    object \n",
            " 2   Premiere    584 non-null    object \n",
            " 3   Runtime     584 non-null    int64  \n",
            " 4   IMDB Score  584 non-null    float64\n",
            " 5   Language    584 non-null    object \n",
            "dtypes: float64(1), int64(1), object(4)\n",
            "memory usage: 27.5+ KB\n"
          ]
        }
      ]
    },
    {
      "cell_type": "markdown",
      "metadata": {
        "id": "Ir8DkxR0ECuM"
      },
      "source": [
        "Исходя из вышеувиденного, можно сделать вывод, что в таблице всего 584 строк, среди которых ни одного нулевого объекта. Так же можно заметить, что в нашей выборке есть такие объекты как 'Title', 'Genre'.Очевидно, что они нам не понадобятся, поэмтоу удалим их. "
      ]
    },
    {
      "cell_type": "code",
      "metadata": {
        "id": "8Zt1Hc9UEDwA"
      },
      "source": [
        "data = data.drop(['Title','Genre'],axis = 'columns' ) "
      ],
      "execution_count": null,
      "outputs": []
    },
    {
      "cell_type": "markdown",
      "metadata": {
        "id": "FCS3S-aPEIdG"
      },
      "source": [
        "Выведем типы данных, используемые в таблице."
      ]
    },
    {
      "cell_type": "code",
      "metadata": {
        "colab": {
          "base_uri": "https://localhost:8080/"
        },
        "id": "SgoSlTHdEINL",
        "outputId": "90ec6d2d-c236-44fc-b9c9-60671bb230f3"
      },
      "source": [
        "data.dtypes"
      ],
      "execution_count": null,
      "outputs": [
        {
          "output_type": "execute_result",
          "data": {
            "text/plain": [
              "Premiere       object\n",
              "Runtime         int64\n",
              "IMDB Score    float64\n",
              "Language       object\n",
              "dtype: object"
            ]
          },
          "metadata": {},
          "execution_count": 5
        }
      ]
    },
    {
      "cell_type": "markdown",
      "metadata": {
        "id": "q3iEWJAmENYh"
      },
      "source": [
        "Так как текстовые переменные обработать мы не можем, посмотрим на значения которые принимают объекты 'Premiere' и 'Language'."
      ]
    },
    {
      "cell_type": "code",
      "metadata": {
        "colab": {
          "base_uri": "https://localhost:8080/"
        },
        "id": "DHYbqW-EEOuf",
        "outputId": "1d318b31-a4cc-4ed3-c37a-00e83dc395e1"
      },
      "source": [
        "data['Language'].value_counts()"
      ],
      "execution_count": null,
      "outputs": [
        {
          "output_type": "execute_result",
          "data": {
            "text/plain": [
              "English                       401\n",
              "Hindi                          33\n",
              "Spanish                        31\n",
              "French                         20\n",
              "Italian                        14\n",
              "Portuguese                     12\n",
              "Indonesian                      9\n",
              "Japanese                        6\n",
              "Korean                          6\n",
              "English/Spanish                 5\n",
              "Turkish                         5\n",
              "German                          5\n",
              "Marathi                         3\n",
              "Polish                          3\n",
              "Dutch                           3\n",
              "English/Hindi                   2\n",
              "English/Mandarin                2\n",
              "Filipino                        2\n",
              "English/Japanese                2\n",
              "Thai                            2\n",
              "Norwegian                       1\n",
              "English/Arabic                  1\n",
              "Bengali                         1\n",
              "Tamil                           1\n",
              "Georgian                        1\n",
              "Spanish/Catalan                 1\n",
              "English/Taiwanese/Mandarin      1\n",
              "English/Swedish                 1\n",
              "Khmer/English/French            1\n",
              "Malay                           1\n",
              "Swedish                         1\n",
              "English/Akan                    1\n",
              "Thia/English                    1\n",
              "English/Russian                 1\n",
              "English/Ukranian/Russian        1\n",
              "Spanish/English                 1\n",
              "English/Korean                  1\n",
              "Spanish/Basque                  1\n",
              "Name: Language, dtype: int64"
            ]
          },
          "metadata": {},
          "execution_count": 6
        }
      ]
    },
    {
      "cell_type": "markdown",
      "metadata": {
        "id": "KpUkRnPXESlS"
      },
      "source": [
        "Заменим значения этого признака на количество \"языков\" в группе.\n"
      ]
    },
    {
      "cell_type": "code",
      "metadata": {
        "id": "YGzF5w-kESTP"
      },
      "source": [
        "counts = data['Language'].value_counts()\n",
        "nan_count = data['Language'].isnull().sum()\n",
        "def replace_lang(lang):\n",
        "    if pd.isnull(lang):\n",
        "        return nan_count\n",
        "    return counts[lang]\n",
        "data['Language'] = data['Language'].apply(replace_lang)"
      ],
      "execution_count": null,
      "outputs": []
    },
    {
      "cell_type": "markdown",
      "metadata": {
        "id": "NfzTOLyzEhCD"
      },
      "source": [
        "Заменим дату выхода фильма на год. "
      ]
    },
    {
      "cell_type": "code",
      "metadata": {
        "colab": {
          "base_uri": "https://localhost:8080/"
        },
        "id": "cqlshEX7Ehn9",
        "outputId": "8029fa95-5c01-4f99-fec5-d9e588916095"
      },
      "source": [
        "premier = data['Premiere']\n",
        "for i in range(len(premier)):\n",
        "  premier[i] = int(re.sub('.+ \\d+. ', '', str(premier[i])))\n"
      ],
      "execution_count": null,
      "outputs": [
        {
          "output_type": "stream",
          "name": "stderr",
          "text": [
            "/usr/local/lib/python3.7/dist-packages/ipykernel_launcher.py:3: SettingWithCopyWarning: \n",
            "A value is trying to be set on a copy of a slice from a DataFrame\n",
            "\n",
            "See the caveats in the documentation: https://pandas.pydata.org/pandas-docs/stable/user_guide/indexing.html#returning-a-view-versus-a-copy\n",
            "  This is separate from the ipykernel package so we can avoid doing imports until\n"
          ]
        }
      ]
    },
    {
      "cell_type": "markdown",
      "metadata": {
        "id": "PhWRb1l8Hmpb"
      },
      "source": [
        "Посмотрим на корреляцию признаков между собой. Построим графическое представление модуля значения корреляции попарно между признаками."
      ]
    },
    {
      "cell_type": "code",
      "metadata": {
        "colab": {
          "base_uri": "https://localhost:8080/",
          "height": 287
        },
        "id": "NLfosep5HoKX",
        "outputId": "fb9483d5-f5bb-4562-94e1-adbea1188f7d"
      },
      "source": [
        "corr = data.corr().abs()\n",
        "sns.heatmap(corr,\n",
        "            xticklabels = corr.columns.values,\n",
        "            yticklabels = corr.columns.values)"
      ],
      "execution_count": null,
      "outputs": [
        {
          "output_type": "execute_result",
          "data": {
            "text/plain": [
              "<matplotlib.axes._subplots.AxesSubplot at 0x7f588e67e790>"
            ]
          },
          "metadata": {},
          "execution_count": 42
        },
        {
          "output_type": "display_data",
          "data": {
            "image/png": "[encoded data removed]",
            "text/plain": [
              "<Figure size 432x288 with 2 Axes>"
            ]
          },
          "metadata": {
            "needs_background": "light"
          }
        }
      ]
    },
    {
      "cell_type": "markdown",
      "metadata": {
        "id": "r7Xg4ewKHrav"
      },
      "source": [
        "Как видим из тепловой карты выше, признаки почти не корелируют между собой. Замним параметр рейтинга на булвый. Пусть если рейтинг будет 6 или больше, булевый параметр будет равен 1, что означает \"годный\", иначе 0."
      ]
    },
    {
      "cell_type": "code",
      "metadata": {
        "colab": {
          "base_uri": "https://localhost:8080/"
        },
        "id": "xVfO9DGVHwAj",
        "outputId": "a8b7ecc8-1698-4fef-9083-4710e9225e8b"
      },
      "source": [
        "rating = data['IMDB Score']\n",
        "for i in range (len(rating)):\n",
        "  if rating[i] >= 6: rating[i] = 1\n",
        "  else: rating[i] = 0 "
      ],
      "execution_count": null,
      "outputs": [
        {
          "output_type": "stream",
          "name": "stderr",
          "text": [
            "/usr/local/lib/python3.7/dist-packages/ipykernel_launcher.py:4: SettingWithCopyWarning: \n",
            "A value is trying to be set on a copy of a slice from a DataFrame\n",
            "\n",
            "See the caveats in the documentation: https://pandas.pydata.org/pandas-docs/stable/user_guide/indexing.html#returning-a-view-versus-a-copy\n",
            "  after removing the cwd from sys.path.\n",
            "/usr/local/lib/python3.7/dist-packages/ipykernel_launcher.py:3: SettingWithCopyWarning: \n",
            "A value is trying to be set on a copy of a slice from a DataFrame\n",
            "\n",
            "See the caveats in the documentation: https://pandas.pydata.org/pandas-docs/stable/user_guide/indexing.html#returning-a-view-versus-a-copy\n",
            "  This is separate from the ipykernel package so we can avoid doing imports until\n"
          ]
        }
      ]
    },
    {
      "cell_type": "markdown",
      "metadata": {
        "id": "5AkxF1ihHz_A"
      },
      "source": [
        "Посмотрим на получившиеся данные."
      ]
    },
    {
      "cell_type": "code",
      "metadata": {
        "colab": {
          "base_uri": "https://localhost:8080/",
          "height": 363
        },
        "id": "e4UVkSE4H2yB",
        "outputId": "61f7afc6-21f7-4683-dba2-5b610431ad35"
      },
      "source": [
        "data.tail(10)"
      ],
      "execution_count": null,
      "outputs": [
        {
          "output_type": "execute_result",
          "data": {
            "text/html": [
              "<div>\n",
              "<style scoped>\n",
              "    .dataframe tbody tr th:only-of-type {\n",
              "        vertical-align: middle;\n",
              "    }\n",
              "\n",
              "    .dataframe tbody tr th {\n",
              "        vertical-align: top;\n",
              "    }\n",
              "\n",
              "    .dataframe thead th {\n",
              "        text-align: right;\n",
              "    }\n",
              "</style>\n",
              "<table border=\"1\" class=\"dataframe\">\n",
              "  <thead>\n",
              "    <tr style=\"text-align: right;\">\n",
              "      <th></th>\n",
              "      <th>Premiere</th>\n",
              "      <th>Runtime</th>\n",
              "      <th>IMDB Score</th>\n",
              "      <th>Language</th>\n",
              "    </tr>\n",
              "  </thead>\n",
              "  <tbody>\n",
              "    <tr>\n",
              "      <th>574</th>\n",
              "      <td>2021</td>\n",
              "      <td>89</td>\n",
              "      <td>1.0</td>\n",
              "      <td>401</td>\n",
              "    </tr>\n",
              "    <tr>\n",
              "      <th>575</th>\n",
              "      <td>2020</td>\n",
              "      <td>109</td>\n",
              "      <td>1.0</td>\n",
              "      <td>31</td>\n",
              "    </tr>\n",
              "    <tr>\n",
              "      <th>576</th>\n",
              "      <td>2017</td>\n",
              "      <td>114</td>\n",
              "      <td>1.0</td>\n",
              "      <td>401</td>\n",
              "    </tr>\n",
              "    <tr>\n",
              "      <th>577</th>\n",
              "      <td>2019</td>\n",
              "      <td>51</td>\n",
              "      <td>1.0</td>\n",
              "      <td>401</td>\n",
              "    </tr>\n",
              "    <tr>\n",
              "      <th>578</th>\n",
              "      <td>2020</td>\n",
              "      <td>85</td>\n",
              "      <td>1.0</td>\n",
              "      <td>401</td>\n",
              "    </tr>\n",
              "    <tr>\n",
              "      <th>579</th>\n",
              "      <td>2018</td>\n",
              "      <td>125</td>\n",
              "      <td>1.0</td>\n",
              "      <td>401</td>\n",
              "    </tr>\n",
              "    <tr>\n",
              "      <th>580</th>\n",
              "      <td>2015</td>\n",
              "      <td>91</td>\n",
              "      <td>1.0</td>\n",
              "      <td>1</td>\n",
              "    </tr>\n",
              "    <tr>\n",
              "      <th>581</th>\n",
              "      <td>2018</td>\n",
              "      <td>153</td>\n",
              "      <td>1.0</td>\n",
              "      <td>401</td>\n",
              "    </tr>\n",
              "    <tr>\n",
              "      <th>582</th>\n",
              "      <td>2020</td>\n",
              "      <td>89</td>\n",
              "      <td>1.0</td>\n",
              "      <td>12</td>\n",
              "    </tr>\n",
              "    <tr>\n",
              "      <th>583</th>\n",
              "      <td>2020</td>\n",
              "      <td>83</td>\n",
              "      <td>1.0</td>\n",
              "      <td>401</td>\n",
              "    </tr>\n",
              "  </tbody>\n",
              "</table>\n",
              "</div>"
            ],
            "text/plain": [
              "    Premiere  Runtime  IMDB Score  Language\n",
              "574     2021       89         1.0       401\n",
              "575     2020      109         1.0        31\n",
              "576     2017      114         1.0       401\n",
              "577     2019       51         1.0       401\n",
              "578     2020       85         1.0       401\n",
              "579     2018      125         1.0       401\n",
              "580     2015       91         1.0         1\n",
              "581     2018      153         1.0       401\n",
              "582     2020       89         1.0        12\n",
              "583     2020       83         1.0       401"
            ]
          },
          "metadata": {},
          "execution_count": 45
        }
      ]
    },
    {
      "cell_type": "markdown",
      "metadata": {
        "id": "GfRn--TqH_zK"
      },
      "source": [
        "Поскольку аномальные и нулевые значений отсутствуют, перейдем к шагу машинного обучения.Выделим в нашей выборке целевую переменную, а также разделим ее на тренировочную и тестовую."
      ]
    },
    {
      "cell_type": "code",
      "metadata": {
        "id": "zI3YItt2IBE2"
      },
      "source": [
        "X = data[data.columns[:-1]]\n",
        "y = data['IMDB Score']\n",
        "\n",
        "from sklearn.model_selection import train_test_split\n",
        "X_train, X_test, y_train, y_test = train_test_split(X, y)"
      ],
      "execution_count": null,
      "outputs": []
    },
    {
      "cell_type": "markdown",
      "metadata": {
        "id": "s4cuGk-5IE0m"
      },
      "source": [
        "Далее проведем классификацию с помозью метода ближайших соседей. Так же подсчитаем долю верных ответов алгоритма на тестовой выборке."
      ]
    },
    {
      "cell_type": "code",
      "metadata": {
        "colab": {
          "base_uri": "https://localhost:8080/"
        },
        "id": "YuS4w8ZNIH2J",
        "outputId": "7f369058-dcea-458b-8102-8d163d0e9ac8"
      },
      "source": [
        "# импортируем класс классификатора по ближайшим соседям\n",
        "from sklearn.neighbors import KNeighborsClassifier\n",
        "\n",
        "# создадим наш классификатор. Гиперпараметр у этого алгоритма один - количество соседей.\n",
        "clf = KNeighborsClassifier(n_neighbors=5)\n",
        "# обучим классификатор на тренировочной выборке\n",
        "clf.fit(X_train, y_train)\n",
        "# подсчитаем долю верных ответов алгоритма на тестовой выборке.\n",
        "# Есть и другие метрики качества - о них будет рассказано на следующей лабе\n",
        "clf.score(X_test, y_test)\n",
        "clf.score(X_test, y_test)"
      ],
      "execution_count": null,
      "outputs": [
        {
          "output_type": "execute_result",
          "data": {
            "text/plain": [
              "0.8013698630136986"
            ]
          },
          "metadata": {},
          "execution_count": 47
        }
      ]
    },
    {
      "cell_type": "markdown",
      "metadata": {
        "id": "iIjEMvB3IQD1"
      },
      "source": [
        "Посмотрим влияение гиперпараметра, а так же нарисуем графики."
      ]
    },
    {
      "cell_type": "code",
      "metadata": {
        "colab": {
          "base_uri": "https://localhost:8080/",
          "height": 279
        },
        "id": "30Odyp_5ISA-",
        "outputId": "5be8a5b8-09be-4607-a9b6-bab7873b2d89"
      },
      "source": [
        "train_scores = {}\n",
        "test_scores = {}\n",
        "\n",
        "# для n в диапазоне от 1 до 40 включительно\n",
        "for n in range(1, 41):\n",
        "    clf = KNeighborsClassifier(n_neighbors=n)\n",
        "    clf.fit(X_train, y_train)\n",
        "    # значение качества на текущей итерации:\n",
        "    current_train_score = clf.score(X_train, y_train)\n",
        "    current_test_score = clf.score(X_test, y_test)\n",
        "    # запишем его в наши словари\n",
        "    train_scores[n] = current_train_score\n",
        "    test_scores[n] = current_test_score\n",
        "\n",
        "# нарисуем графики\n",
        "\n",
        "plt.plot( list (train_scores.keys()),list (train_scores.values()), label='Обучающая выборка')\n",
        "plt.plot( list (test_scores.keys()), list (test_scores.values()), label='Тестовая выборка')\n",
        "plt.xlabel('Количество соседей')\n",
        "plt.ylabel('Доля верных ответов')\n",
        "plt.legend()\n",
        "plt.show()"
      ],
      "execution_count": null,
      "outputs": [
        {
          "output_type": "display_data",
          "data": {
            "image/png": "[encoded data removed]",
            "text/plain": [
              "<Figure size 432x288 with 1 Axes>"
            ]
          },
          "metadata": {
            "needs_background": "light"
          }
        }
      ]
    }
  ]
}